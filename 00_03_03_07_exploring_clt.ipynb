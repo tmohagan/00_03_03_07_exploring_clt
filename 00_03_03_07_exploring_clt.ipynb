{
 "cells": [
  {
   "cell_type": "markdown",
   "metadata": {},
   "source": [
    "Now that you have some code to create your own populations, sample them, and compare the samples to the populations, it's time to experiment. \n",
    "\n",
    "Using your own Jupyter notebook, or a copy of the notebook from the previous assignment, reproduce the pop1 and pop2 populations and samples, using numpy's binomial function. \n",
    "\n",
    "Specifically, create two binomially distributed populations with \n",
    "n equal to 10 \n",
    "and size equal to 10000. \n",
    "\n",
    "The p-value of pop1 should be 0.2 \n",
    "and the p-value of pop2 should be 0.5. "
   ]
  },
  {
   "cell_type": "code",
   "execution_count": 17,
   "metadata": {},
   "outputs": [],
   "source": [
    "import numpy as np\n",
    "import pandas as pd\n",
    "import scipy\n",
    "import matplotlib.pyplot as plt\n",
    "%matplotlib inline"
   ]
  },
  {
   "cell_type": "code",
   "execution_count": 16,
   "metadata": {},
   "outputs": [],
   "source": [
    "# A binomial distribution counts the number of successes\n",
    "# when an event with two possible outcomes is repeated many times \n",
    "\n",
    "# Summarized by p, the probability of getting k successes \n",
    "# during n repetitions of the event.\n",
    "\n",
    "# np.random.binomial(n, p, trials)\n",
    "pop1 = np.random.binomial(10, .2, 10000)\n",
    "pop2 = np.random.binomial(10,0.5, 10000) "
   ]
  },
  {
   "cell_type": "markdown",
   "metadata": {},
   "source": [
    "Using a sample size of 100, calculate the means and standard deviations of your samples."
   ]
  },
  {
   "cell_type": "code",
   "execution_count": 26,
   "metadata": {},
   "outputs": [
    {
     "data": {
      "image/png": "[encoded data removed]",
      "text/plain": [
       "<Figure size 432x288 with 1 Axes>"
      ]
     },
     "metadata": {},
     "output_type": "display_data"
    },
    {
     "name": "stdout",
     "output_type": "stream",
     "text": [
      "using sample size of 100\n",
      "sample1 mean:  2.08\n",
      "sample2 mean:  5.0\n",
      "sample1 std:  1.2702755606560334\n",
      "sample2 std:  1.5491933384829668\n",
      "difference between the two sample means:  2.92\n"
     ]
    }
   ],
   "source": [
    "sample1 = np.random.choice(pop1, 100, replace=True)\n",
    "sample2 = np.random.choice(pop2, 100, replace=True)\n",
    "\n",
    "plt.hist(sample1, alpha=0.5, label='sample 1') \n",
    "plt.hist(sample2, alpha=0.5, label='sample 2') \n",
    "plt.legend(loc='upper right') \n",
    "plt.title('Sample Size 100')\n",
    "\n",
    "# Add a vertical line at the mean.\n",
    "plt.axvline(sample1.mean(), color='blue', linestyle='solid', linewidth=2)\n",
    "plt.axvline(sample2.mean(), color='orange', linestyle='solid', linewidth=2)\n",
    "\n",
    "# Add a vertical line at one standard deviation above the mean.\n",
    "plt.axvline(sample1.mean() + sample1.std(), color='b', linestyle='dashed', linewidth=2)\n",
    "plt.axvline(sample2.mean() + sample2.std(), color='orange', linestyle='dashed', linewidth=2)\n",
    "\n",
    "# Add a vertical line at one standard deviation below the mean.\n",
    "plt.axvline(sample1.mean()-sample1.std(), color='b', linestyle='dashed', linewidth=2)\n",
    "plt.axvline(sample2.mean()-sample2.std(), color='orange', linestyle='dashed', linewidth=2)\n",
    "\n",
    "plt.show()\n",
    "\n",
    "print(\"using sample size of 100\")\n",
    "print(\"sample1 mean: \",sample1.mean())\n",
    "print(\"sample2 mean: \",sample2.mean())\n",
    "print(\"sample1 std: \",sample1.std())\n",
    "print(\"sample2 std: \",sample2.std())\n",
    "\n",
    "# Compute the difference between the two sample means.\n",
    "diff=sample2.mean( ) -sample1.mean()\n",
    "print(\"difference between the two sample means: \",diff)"
   ]
  },
  {
   "cell_type": "markdown",
   "metadata": {},
   "source": [
    "For each of the following tasks, first write what you expect will happen, then code the changes and observe what does happen. Discuss the results with your mentor."
   ]
  },
  {
   "cell_type": "markdown",
   "metadata": {},
   "source": [
    "Increase the size of your samples from 100 to 1000, then calculate the means and standard deviations for your new samples and create histograms for each. "
   ]
  },
  {
   "cell_type": "code",
   "execution_count": 27,
   "metadata": {},
   "outputs": [
    {
     "data": {
      "image/png": "[encoded data removed]",
      "text/plain": [
       "<Figure size 432x288 with 1 Axes>"
      ]
     },
     "metadata": {},
     "output_type": "display_data"
    },
    {
     "name": "stdout",
     "output_type": "stream",
     "text": [
      "using sample size of 1,000\n",
      "sample1 mean:  2.031\n",
      "sample2 mean:  5.021\n",
      "sample1 std:  1.3030882548776195\n",
      "sample2 std:  1.5888860877986186\n",
      "difference between the two sample means:  2.9899999999999998\n"
     ]
    }
   ],
   "source": [
    "sample1 = np.random.choice(pop1, 1000, replace=True)\n",
    "sample2 = np.random.choice(pop2, 1000, replace=True)\n",
    "\n",
    "plt.hist(sample1, alpha=0.5, label='sample 1') \n",
    "plt.hist(sample2, alpha=0.5, label='sample 2') \n",
    "plt.legend(loc='upper right') \n",
    "plt.title('Sample Size 1,000')\n",
    "\n",
    "# Add a vertical line at the mean.\n",
    "plt.axvline(sample1.mean(), color='blue', linestyle='solid', linewidth=2)\n",
    "plt.axvline(sample2.mean(), color='orange', linestyle='solid', linewidth=2)\n",
    "\n",
    "# Add a vertical line at one standard deviation above the mean.\n",
    "plt.axvline(sample1.mean() + sample1.std(), color='b', linestyle='dashed', linewidth=2)\n",
    "plt.axvline(sample2.mean() + sample2.std(), color='orange', linestyle='dashed', linewidth=2)\n",
    "\n",
    "# Add a vertical line at one standard deviation below the mean.\n",
    "plt.axvline(sample1.mean()-sample1.std(), color='b', linestyle='dashed', linewidth=2)\n",
    "plt.axvline(sample2.mean()-sample2.std(), color='orange', linestyle='dashed', linewidth=2)\n",
    "\n",
    "plt.show()\n",
    "\n",
    "print(\"using sample size of 1,000\")\n",
    "print(\"sample1 mean: \",sample1.mean())\n",
    "print(\"sample2 mean: \",sample2.mean())\n",
    "print(\"sample1 std: \",sample1.std())\n",
    "print(\"sample2 std: \",sample2.std())\n",
    "\n",
    "# Compute the difference between the two sample means.\n",
    "diff=sample2.mean( ) -sample1.mean()\n",
    "print(\"difference between the two sample means: \",diff)"
   ]
  },
  {
   "cell_type": "markdown",
   "metadata": {},
   "source": [
    "When I increase the sample size from 100 to 1,000 everything stays about the same.  "
   ]
  },
  {
   "cell_type": "markdown",
   "metadata": {},
   "source": [
    "Repeat this again, decreasing the size of your samples to 20. What values change, and what remain the same?"
   ]
  },
  {
   "cell_type": "code",
   "execution_count": 28,
   "metadata": {},
   "outputs": [
    {
     "data": {
      "image/png": "[encoded data removed]",
      "text/plain": [
       "<Figure size 432x288 with 1 Axes>"
      ]
     },
     "metadata": {},
     "output_type": "display_data"
    },
    {
     "name": "stdout",
     "output_type": "stream",
     "text": [
      "using sample size of 20\n",
      "sample1 mean:  2.7\n",
      "sample2 mean:  4.85\n",
      "sample1 std:  1.452583904633395\n",
      "sample2 std:  1.8241436346954698\n",
      "difference between the two sample means:  2.1499999999999995\n"
     ]
    }
   ],
   "source": [
    "sample1 = np.random.choice(pop1, 20, replace=True)\n",
    "sample2 = np.random.choice(pop2, 20, replace=True)\n",
    "\n",
    "plt.hist(sample1, alpha=0.5, label='sample 1') \n",
    "plt.hist(sample2, alpha=0.5, label='sample 2') \n",
    "plt.legend(loc='upper right') \n",
    "plt.title('Sample Size 20')\n",
    "\n",
    "# Add a vertical line at the mean.\n",
    "plt.axvline(sample1.mean(), color='blue', linestyle='solid', linewidth=2)\n",
    "plt.axvline(sample2.mean(), color='orange', linestyle='solid', linewidth=2)\n",
    "\n",
    "# Add a vertical line at one standard deviation above the mean.\n",
    "plt.axvline(sample1.mean() + sample1.std(), color='b', linestyle='dashed', linewidth=2)\n",
    "plt.axvline(sample2.mean() + sample2.std(), color='orange', linestyle='dashed', linewidth=2)\n",
    "\n",
    "# Add a vertical line at one standard deviation below the mean.\n",
    "plt.axvline(sample1.mean()-sample1.std(), color='b', linestyle='dashed', linewidth=2)\n",
    "plt.axvline(sample2.mean()-sample2.std(), color='orange', linestyle='dashed', linewidth=2)\n",
    "\n",
    "plt.show()\n",
    "\n",
    "print(\"using sample size of 20\")\n",
    "print(\"sample1 mean: \",sample1.mean())\n",
    "print(\"sample2 mean: \",sample2.mean())\n",
    "print(\"sample1 std: \",sample1.std())\n",
    "print(\"sample2 std: \",sample2.std())\n",
    "\n",
    "# Compute the difference between the two sample means.\n",
    "diff=sample2.mean( ) -sample1.mean()\n",
    "print(\"difference between the two sample means: \",diff)"
   ]
  },
  {
   "cell_type": "markdown",
   "metadata": {},
   "source": [
    "Decreacing the sample size to 20 results inmore drastic changes. Without as many samoples, they must be more spread out.   "
   ]
  },
  {
   "cell_type": "markdown",
   "metadata": {},
   "source": [
    "Change the probability value (p in the NumPy documentation) for pop1 to 0.3, then take new samples and compute the t-statistic and p-value. "
   ]
  },
  {
   "cell_type": "code",
   "execution_count": 29,
   "metadata": {},
   "outputs": [],
   "source": [
    "# np.random.binomial(n, p, trials)\n",
    "pop1 = np.random.binomial(10, .3, 10000)\n",
    "pop2 = np.random.binomial(10,0.5, 10000) "
   ]
  },
  {
   "cell_type": "code",
   "execution_count": 34,
   "metadata": {},
   "outputs": [
    {
     "data": {
      "image/png": "[encoded data removed]",
      "text/plain": [
       "<Figure size 432x288 with 1 Axes>"
      ]
     },
     "metadata": {},
     "output_type": "display_data"
    },
    {
     "name": "stdout",
     "output_type": "stream",
     "text": [
      "using sample size of 20\n",
      "sample1 mean:  4.0\n",
      "sample2 mean:  5.3\n",
      "sample1 std:  1.70293863659264\n",
      "sample2 std:  1.7349351572897473\n",
      "difference between the two sample means:  1.2999999999999998\n"
     ]
    }
   ],
   "source": [
    "sample1 = np.random.choice(pop1, 20, replace=True)\n",
    "sample2 = np.random.choice(pop2, 20, replace=True)\n",
    "\n",
    "plt.hist(sample1, alpha=0.5, label='sample 1') \n",
    "plt.hist(sample2, alpha=0.5, label='sample 2') \n",
    "plt.legend(loc='upper right') \n",
    "plt.title('Sample Size 20 - group 1 higher probability value')\n",
    "\n",
    "# Add a vertical line at the mean.\n",
    "plt.axvline(sample1.mean(), color='blue', linestyle='solid', linewidth=2)\n",
    "plt.axvline(sample2.mean(), color='orange', linestyle='solid', linewidth=2)\n",
    "\n",
    "# Add a vertical line at one standard deviation above the mean.\n",
    "plt.axvline(sample1.mean() + sample1.std(), color='b', linestyle='dashed', linewidth=2)\n",
    "plt.axvline(sample2.mean() + sample2.std(), color='orange', linestyle='dashed', linewidth=2)\n",
    "\n",
    "# Add a vertical line at one standard deviation below the mean.\n",
    "plt.axvline(sample1.mean()-sample1.std(), color='b', linestyle='dashed', linewidth=2)\n",
    "plt.axvline(sample2.mean()-sample2.std(), color='orange', linestyle='dashed', linewidth=2)\n",
    "\n",
    "plt.show()\n",
    "\n",
    "print(\"using sample size of 20\")\n",
    "print(\"sample1 mean: \",sample1.mean())\n",
    "print(\"sample2 mean: \",sample2.mean())\n",
    "print(\"sample1 std: \",sample1.std())\n",
    "print(\"sample2 std: \",sample2.std())\n",
    "\n",
    "# Compute the difference between the two sample means.\n",
    "diff=sample2.mean( ) -sample1.mean()\n",
    "print(\"difference between the two sample means: \",diff)"
   ]
  },
  {
   "cell_type": "markdown",
   "metadata": {},
   "source": [
    "Then change the probability value p for group 1 to 0.4, and do it again. What changes, and why?"
   ]
  },
  {
   "cell_type": "code",
   "execution_count": 31,
   "metadata": {},
   "outputs": [],
   "source": [
    "# np.random.binomial(n, p, trials)\n",
    "pop1 = np.random.binomial(10, .4, 10000)\n",
    "pop2 = np.random.binomial(10,0.5, 10000) "
   ]
  },
  {
   "cell_type": "code",
   "execution_count": 35,
   "metadata": {},
   "outputs": [
    {
     "data": {
      "image/png": "[encoded data removed]",
      "text/plain": [
       "<Figure size 432x288 with 1 Axes>"
      ]
     },
     "metadata": {},
     "output_type": "display_data"
    },
    {
     "name": "stdout",
     "output_type": "stream",
     "text": [
      "using sample size of 20\n",
      "sample1 mean:  4.45\n",
      "sample2 mean:  4.3\n",
      "sample1 std:  1.3955285736952863\n",
      "sample2 std:  1.3453624047073711\n",
      "difference between the two sample means:  -0.15000000000000036\n"
     ]
    }
   ],
   "source": [
    "sample1 = np.random.choice(pop1, 20, replace=True)\n",
    "sample2 = np.random.choice(pop2, 20, replace=True)\n",
    "\n",
    "plt.hist(sample1, alpha=0.5, label='sample 1') \n",
    "plt.hist(sample2, alpha=0.5, label='sample 2') \n",
    "plt.legend(loc='upper right') \n",
    "plt.title('Sample Size 20 - group 1 more higher probability value')\n",
    "\n",
    "# Add a vertical line at the mean.\n",
    "plt.axvline(sample1.mean(), color='blue', linestyle='solid', linewidth=2)\n",
    "plt.axvline(sample2.mean(), color='orange', linestyle='solid', linewidth=2)\n",
    "\n",
    "# Add a vertical line at one standard deviation above the mean.\n",
    "plt.axvline(sample1.mean() + sample1.std(), color='b', linestyle='dashed', linewidth=2)\n",
    "plt.axvline(sample2.mean() + sample2.std(), color='orange', linestyle='dashed', linewidth=2)\n",
    "\n",
    "# Add a vertical line at one standard deviation below the mean.\n",
    "plt.axvline(sample1.mean()-sample1.std(), color='b', linestyle='dashed', linewidth=2)\n",
    "plt.axvline(sample2.mean()-sample2.std(), color='orange', linestyle='dashed', linewidth=2)\n",
    "\n",
    "plt.show()\n",
    "\n",
    "print(\"using sample size of 20\")\n",
    "print(\"sample1 mean: \",sample1.mean())\n",
    "print(\"sample2 mean: \",sample2.mean())\n",
    "print(\"sample1 std: \",sample1.std())\n",
    "print(\"sample2 std: \",sample2.std())\n",
    "\n",
    "# Compute the difference between the two sample means.\n",
    "diff=sample2.mean( ) -sample1.mean()\n",
    "print(\"difference between the two sample means: \",diff)"
   ]
  },
  {
   "cell_type": "markdown",
   "metadata": {},
   "source": [
    "changing the probability value p for group 1 to 0.4 decreases the std of sample 1. the value p for group 1 is much closer to the value p for group 2, so their difference in means is very small."
   ]
  },
  {
   "cell_type": "markdown",
   "metadata": {},
   "source": [
    "Change the distribution of your populations from binomial to a distribution of your choice. Do the sample mean values still accurately represent the population values?"
   ]
  },
  {
   "cell_type": "code",
   "execution_count": 37,
   "metadata": {},
   "outputs": [],
   "source": [
    "# Generate a Poisson distribution with lambda = 3\n",
    "pop1 = np.random.poisson(3, 10000)\n",
    "pop2 = np.random.poisson(3, 10000) "
   ]
  },
  {
   "cell_type": "code",
   "execution_count": 39,
   "metadata": {},
   "outputs": [
    {
     "data": {
      "image/png": "[encoded data removed]",
      "text/plain": [
       "<Figure size 432x288 with 1 Axes>"
      ]
     },
     "metadata": {},
     "output_type": "display_data"
    },
    {
     "name": "stdout",
     "output_type": "stream",
     "text": [
      "using sample size of 20\n",
      "sample1 mean:  2.9\n",
      "sample2 mean:  3.45\n",
      "sample1 std:  1.6093476939431082\n",
      "sample2 std:  1.9615045245933032\n",
      "difference between the two sample means:  0.5500000000000003\n"
     ]
    }
   ],
   "source": [
    "sample1 = np.random.choice(pop1, 20, replace=True)\n",
    "sample2 = np.random.choice(pop2, 20, replace=True)\n",
    "\n",
    "plt.hist(sample1, alpha=0.5, label='sample 1') \n",
    "plt.hist(sample2, alpha=0.5, label='sample 2') \n",
    "plt.legend(loc='upper right') \n",
    "plt.title('Sample Size 20 - poisson dist')\n",
    "\n",
    "# Add a vertical line at the mean.\n",
    "plt.axvline(sample1.mean(), color='blue', linestyle='solid', linewidth=2)\n",
    "plt.axvline(sample2.mean(), color='orange', linestyle='solid', linewidth=2)\n",
    "\n",
    "# Add a vertical line at one standard deviation above the mean.\n",
    "plt.axvline(sample1.mean() + sample1.std(), color='b', linestyle='dashed', linewidth=2)\n",
    "plt.axvline(sample2.mean() + sample2.std(), color='orange', linestyle='dashed', linewidth=2)\n",
    "\n",
    "# Add a vertical line at one standard deviation below the mean.\n",
    "plt.axvline(sample1.mean()-sample1.std(), color='b', linestyle='dashed', linewidth=2)\n",
    "plt.axvline(sample2.mean()-sample2.std(), color='orange', linestyle='dashed', linewidth=2)\n",
    "\n",
    "plt.show()\n",
    "\n",
    "print(\"using sample size of 20\")\n",
    "print(\"sample1 mean: \",sample1.mean())\n",
    "print(\"sample2 mean: \",sample2.mean())\n",
    "print(\"sample1 std: \",sample1.std())\n",
    "print(\"sample2 std: \",sample2.std())\n",
    "\n",
    "# Compute the difference between the two sample means.\n",
    "diff=sample2.mean( ) -sample1.mean()\n",
    "print(\"difference between the two sample means: \",diff)"
   ]
  },
  {
   "cell_type": "markdown",
   "metadata": {},
   "source": []
  }
 ],
 "metadata": {
  "kernelspec": {
   "display_name": "Python 3",
   "language": "python",
   "name": "python3"
  },
  "language_info": {
   "codemirror_mode": {
    "name": "ipython",
    "version": 3
   },
   "file_extension": ".py",
   "mimetype": "text/x-python",
   "name": "python",
   "nbconvert_exporter": "python",
   "pygments_lexer": "ipython3",
   "version": "3.6.5"
  }
 },
 "nbformat": 4,
 "nbformat_minor": 2
}
